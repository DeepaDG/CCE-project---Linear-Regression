{
 "cells": [
  {
   "cell_type": "code",
   "execution_count": 1,
   "metadata": {},
   "outputs": [],
   "source": [
    "import numpy as np\n",
    "import pandas as pd\n",
    "import matplotlib.mlab as mlab\n",
    "import matplotlib.pyplot as plt\n",
    "import operator\n",
    "import math\n",
    "import csv"
   ]
  },
  {
   "cell_type": "code",
   "execution_count": 2,
   "metadata": {},
   "outputs": [
    {
     "name": "stdout",
     "output_type": "stream",
     "text": [
      "     x   y\n",
      "0  100  15\n",
      "1   75  11\n",
      "2   80  15\n",
      "3   90  14\n",
      "4   60   8\n",
      "5   50   9\n",
      "6   25   2\n",
      "7   40   5\n"
     ]
    }
   ],
   "source": [
    "data = pd.read_csv('Python_project.csv')\n",
    "print(data)"
   ]
  },
  {
   "cell_type": "code",
   "execution_count": 3,
   "metadata": {},
   "outputs": [
    {
     "data": {
      "text/plain": [
       "pandas.core.frame.DataFrame"
      ]
     },
     "execution_count": 3,
     "metadata": {},
     "output_type": "execute_result"
    }
   ],
   "source": [
    "type(data)"
   ]
  },
  {
   "cell_type": "code",
   "execution_count": 4,
   "metadata": {},
   "outputs": [
    {
     "data": {
      "text/html": [
       "<div>\n",
       "<style scoped>\n",
       "    .dataframe tbody tr th:only-of-type {\n",
       "        vertical-align: middle;\n",
       "    }\n",
       "\n",
       "    .dataframe tbody tr th {\n",
       "        vertical-align: top;\n",
       "    }\n",
       "\n",
       "    .dataframe thead th {\n",
       "        text-align: right;\n",
       "    }\n",
       "</style>\n",
       "<table border=\"1\" class=\"dataframe\">\n",
       "  <thead>\n",
       "    <tr style=\"text-align: right;\">\n",
       "      <th></th>\n",
       "      <th>x</th>\n",
       "      <th>y</th>\n",
       "    </tr>\n",
       "  </thead>\n",
       "  <tbody>\n",
       "    <tr>\n",
       "      <th>0</th>\n",
       "      <td>100</td>\n",
       "      <td>15</td>\n",
       "    </tr>\n",
       "    <tr>\n",
       "      <th>1</th>\n",
       "      <td>75</td>\n",
       "      <td>11</td>\n",
       "    </tr>\n",
       "    <tr>\n",
       "      <th>2</th>\n",
       "      <td>80</td>\n",
       "      <td>15</td>\n",
       "    </tr>\n",
       "    <tr>\n",
       "      <th>3</th>\n",
       "      <td>90</td>\n",
       "      <td>14</td>\n",
       "    </tr>\n",
       "    <tr>\n",
       "      <th>4</th>\n",
       "      <td>60</td>\n",
       "      <td>8</td>\n",
       "    </tr>\n",
       "  </tbody>\n",
       "</table>\n",
       "</div>"
      ],
      "text/plain": [
       "     x   y\n",
       "0  100  15\n",
       "1   75  11\n",
       "2   80  15\n",
       "3   90  14\n",
       "4   60   8"
      ]
     },
     "execution_count": 4,
     "metadata": {},
     "output_type": "execute_result"
    }
   ],
   "source": [
    "data.head()"
   ]
  },
  {
   "cell_type": "code",
   "execution_count": 5,
   "metadata": {},
   "outputs": [
    {
     "data": {
      "text/plain": [
       "Index([u'x', u'y'], dtype='object')"
      ]
     },
     "execution_count": 5,
     "metadata": {},
     "output_type": "execute_result"
    }
   ],
   "source": [
    "data.columns"
   ]
  },
  {
   "cell_type": "code",
   "execution_count": 6,
   "metadata": {},
   "outputs": [
    {
     "data": {
      "text/html": [
       "<div>\n",
       "<style scoped>\n",
       "    .dataframe tbody tr th:only-of-type {\n",
       "        vertical-align: middle;\n",
       "    }\n",
       "\n",
       "    .dataframe tbody tr th {\n",
       "        vertical-align: top;\n",
       "    }\n",
       "\n",
       "    .dataframe thead th {\n",
       "        text-align: right;\n",
       "    }\n",
       "</style>\n",
       "<table border=\"1\" class=\"dataframe\">\n",
       "  <thead>\n",
       "    <tr style=\"text-align: right;\">\n",
       "      <th></th>\n",
       "      <th>x</th>\n",
       "      <th>y</th>\n",
       "    </tr>\n",
       "  </thead>\n",
       "  <tbody>\n",
       "    <tr>\n",
       "      <th>count</th>\n",
       "      <td>8.000000</td>\n",
       "      <td>8.000000</td>\n",
       "    </tr>\n",
       "    <tr>\n",
       "      <th>mean</th>\n",
       "      <td>65.000000</td>\n",
       "      <td>9.875000</td>\n",
       "    </tr>\n",
       "    <tr>\n",
       "      <th>std</th>\n",
       "      <td>25.773741</td>\n",
       "      <td>4.793969</td>\n",
       "    </tr>\n",
       "    <tr>\n",
       "      <th>min</th>\n",
       "      <td>25.000000</td>\n",
       "      <td>2.000000</td>\n",
       "    </tr>\n",
       "    <tr>\n",
       "      <th>25%</th>\n",
       "      <td>47.500000</td>\n",
       "      <td>7.250000</td>\n",
       "    </tr>\n",
       "    <tr>\n",
       "      <th>50%</th>\n",
       "      <td>67.500000</td>\n",
       "      <td>10.000000</td>\n",
       "    </tr>\n",
       "    <tr>\n",
       "      <th>75%</th>\n",
       "      <td>82.500000</td>\n",
       "      <td>14.250000</td>\n",
       "    </tr>\n",
       "    <tr>\n",
       "      <th>max</th>\n",
       "      <td>100.000000</td>\n",
       "      <td>15.000000</td>\n",
       "    </tr>\n",
       "  </tbody>\n",
       "</table>\n",
       "</div>"
      ],
      "text/plain": [
       "                x          y\n",
       "count    8.000000   8.000000\n",
       "mean    65.000000   9.875000\n",
       "std     25.773741   4.793969\n",
       "min     25.000000   2.000000\n",
       "25%     47.500000   7.250000\n",
       "50%     67.500000  10.000000\n",
       "75%     82.500000  14.250000\n",
       "max    100.000000  15.000000"
      ]
     },
     "execution_count": 6,
     "metadata": {},
     "output_type": "execute_result"
    }
   ],
   "source": [
    "data.describe(include='all')"
   ]
  },
  {
   "cell_type": "code",
   "execution_count": 7,
   "metadata": {},
   "outputs": [
    {
     "name": "stdout",
     "output_type": "stream",
     "text": [
      "     x   y\n",
      "0  100  15\n",
      "1   75  11\n",
      "2   80  15\n",
      "3   90  14\n",
      "4   60   8\n",
      "5   50   9\n",
      "6   25   2\n",
      "7   40   5\n"
     ]
    }
   ],
   "source": [
    "# Ploting Scatter Points\n",
    "print (data)"
   ]
  },
  {
   "cell_type": "code",
   "execution_count": 8,
   "metadata": {},
   "outputs": [
    {
     "data": {
      "text/plain": [
       "Text(0,0.5,u'weght loss')"
      ]
     },
     "execution_count": 8,
     "metadata": {},
     "output_type": "execute_result"
    },
    {
     "data": {
      "image/png": "[encoded data removed]",
      "text/plain": [
       "<matplotlib.figure.Figure at 0x95bc2b0>"
      ]
     },
     "metadata": {},
     "output_type": "display_data"
    }
   ],
   "source": [
    "#plotting scatter graph\n",
    "x=data.x\n",
    "y=data.x\n",
    "plt.scatter(x,y)\n",
    "plt.xlabel('number of hrs spent in gym')\n",
    "plt.ylabel('weght loss')"
   ]
  },
  {
   "cell_type": "code",
   "execution_count": 9,
   "metadata": {},
   "outputs": [
    {
     "name": "stdout",
     "output_type": "stream",
     "text": [
      "8\n"
     ]
    }
   ],
   "source": [
    "n = len(data.x)\n",
    "print n"
   ]
  },
  {
   "cell_type": "code",
   "execution_count": 10,
   "metadata": {},
   "outputs": [
    {
     "name": "stdout",
     "output_type": "stream",
     "text": [
      "65\n"
     ]
    }
   ],
   "source": [
    "xbar=sum(data.x)/n\n",
    "print xbar"
   ]
  },
  {
   "cell_type": "code",
   "execution_count": 119,
   "metadata": {},
   "outputs": [
    {
     "name": "stdout",
     "output_type": "stream",
     "text": [
      "9.0\n"
     ]
    }
   ],
   "source": [
    "ybar1=float(sum(data.y)/n)\n",
    "print(ybar1)"
   ]
  },
  {
   "cell_type": "code",
   "execution_count": 116,
   "metadata": {},
   "outputs": [
    {
     "name": "stdout",
     "output_type": "stream",
     "text": [
      "9.0\n"
     ]
    }
   ],
   "source": [
    "ybar=round(float(sum(data.y)/n),2)\n",
    "print ybar"
   ]
  },
  {
   "cell_type": "code",
   "execution_count": 101,
   "metadata": {},
   "outputs": [
    {
     "name": "stdout",
     "output_type": "stream",
     "text": [
      "     x   y  x_minus_xbar  y_minus_ybar  x_minus_xbar_sq  y_minus_ybar_sq  \\\n",
      "0  100  15            35             6             1225               36   \n",
      "1   75  11            10             2              100                4   \n",
      "2   80  15            15             6              225               36   \n",
      "3   90  14            25             5              625               25   \n",
      "4   60   8            -5            -1               25                1   \n",
      "5   50   9           -15             0              225                0   \n",
      "6   25   2           -40            -7             1600               49   \n",
      "7   40   5           -25            -4              625               16   \n",
      "\n",
      "    x_sq   x_y  cov_numerator  \n",
      "0  10000  1500            210  \n",
      "1   5625   825             20  \n",
      "2   6400  1200             90  \n",
      "3   8100  1260            125  \n",
      "4   3600   480              5  \n",
      "5   2500   450              0  \n",
      "6    625    50            280  \n",
      "7   1600   200            100  \n"
     ]
    }
   ],
   "source": [
    "data[\"x_minus_xbar\"] = data[\"x\"]-xbar\n",
    "print(data)"
   ]
  },
  {
   "cell_type": "code",
   "execution_count": 16,
   "metadata": {},
   "outputs": [
    {
     "name": "stdout",
     "output_type": "stream",
     "text": [
      "0    100\n",
      "1     75\n",
      "2     80\n",
      "3     90\n",
      "4     60\n",
      "5     50\n",
      "6     25\n",
      "7     40\n",
      "Name: x, dtype: int64\n"
     ]
    }
   ],
   "source": [
    "# Calculation x-xbar and Summation\n",
    "xminusxbar=[]\n",
    "for i in [data.x]:\n",
    "    print i\n",
    "    xminusxbar.append(i-xbar)\n"
   ]
  },
  {
   "cell_type": "code",
   "execution_count": 17,
   "metadata": {},
   "outputs": [
    {
     "name": "stdout",
     "output_type": "stream",
     "text": [
      "[0    35\n",
      "1    10\n",
      "2    15\n",
      "3    25\n",
      "4    -5\n",
      "5   -15\n",
      "6   -40\n",
      "7   -25\n",
      "Name: x, dtype: int64]\n"
     ]
    }
   ],
   "source": [
    "print xminusxbar"
   ]
  },
  {
   "cell_type": "code",
   "execution_count": 102,
   "metadata": {},
   "outputs": [
    {
     "name": "stdout",
     "output_type": "stream",
     "text": [
      "     x   y  x_minus_xbar  y_minus_ybar  x_minus_xbar_sq  y_minus_ybar_sq  \\\n",
      "0  100  15            35             6             1225               36   \n",
      "1   75  11            10             2              100                4   \n",
      "2   80  15            15             6              225               36   \n",
      "3   90  14            25             5              625               25   \n",
      "4   60   8            -5            -1               25                1   \n",
      "5   50   9           -15             0              225                0   \n",
      "6   25   2           -40            -7             1600               49   \n",
      "7   40   5           -25            -4              625               16   \n",
      "\n",
      "    x_sq   x_y  cov_numerator  \n",
      "0  10000  1500            210  \n",
      "1   5625   825             20  \n",
      "2   6400  1200             90  \n",
      "3   8100  1260            125  \n",
      "4   3600   480              5  \n",
      "5   2500   450              0  \n",
      "6    625    50            280  \n",
      "7   1600   200            100  \n"
     ]
    }
   ],
   "source": [
    "data[\"y_minus_ybar\"] = data[\"y\"]-ybar\n",
    "print(data)"
   ]
  },
  {
   "cell_type": "code",
   "execution_count": 103,
   "metadata": {},
   "outputs": [
    {
     "name": "stdout",
     "output_type": "stream",
     "text": [
      "     x   y  x_minus_xbar  y_minus_ybar  x_minus_xbar_sq  y_minus_ybar_sq  \\\n",
      "0  100  15            35             6             1225               36   \n",
      "1   75  11            10             2              100                4   \n",
      "2   80  15            15             6              225               36   \n",
      "3   90  14            25             5              625               25   \n",
      "4   60   8            -5            -1               25                1   \n",
      "5   50   9           -15             0              225                0   \n",
      "6   25   2           -40            -7             1600               49   \n",
      "7   40   5           -25            -4              625               16   \n",
      "\n",
      "    x_sq   x_y  cov_numerator  \n",
      "0  10000  1500            210  \n",
      "1   5625   825             20  \n",
      "2   6400  1200             90  \n",
      "3   8100  1260            125  \n",
      "4   3600   480              5  \n",
      "5   2500   450              0  \n",
      "6    625    50            280  \n",
      "7   1600   200            100  \n"
     ]
    }
   ],
   "source": [
    "data[\"x_minus_xbar_sq\"] = data[\"x_minus_xbar\"]**2\n",
    "print(data)"
   ]
  },
  {
   "cell_type": "code",
   "execution_count": 104,
   "metadata": {},
   "outputs": [
    {
     "name": "stdout",
     "output_type": "stream",
     "text": [
      "     x   y  x_minus_xbar  y_minus_ybar  x_minus_xbar_sq  y_minus_ybar_sq  \\\n",
      "0  100  15            35             6             1225               36   \n",
      "1   75  11            10             2              100                4   \n",
      "2   80  15            15             6              225               36   \n",
      "3   90  14            25             5              625               25   \n",
      "4   60   8            -5            -1               25                1   \n",
      "5   50   9           -15             0              225                0   \n",
      "6   25   2           -40            -7             1600               49   \n",
      "7   40   5           -25            -4              625               16   \n",
      "\n",
      "    x_sq   x_y  cov_numerator  \n",
      "0  10000  1500            210  \n",
      "1   5625   825             20  \n",
      "2   6400  1200             90  \n",
      "3   8100  1260            125  \n",
      "4   3600   480              5  \n",
      "5   2500   450              0  \n",
      "6    625    50            280  \n",
      "7   1600   200            100  \n"
     ]
    }
   ],
   "source": [
    "data[\"y_minus_ybar_sq\"] = data[\"y_minus_ybar\"]**2\n",
    "print(data)"
   ]
  },
  {
   "cell_type": "code",
   "execution_count": 105,
   "metadata": {},
   "outputs": [
    {
     "name": "stdout",
     "output_type": "stream",
     "text": [
      "     x   y  x_minus_xbar  y_minus_ybar  x_minus_xbar_sq  y_minus_ybar_sq  \\\n",
      "0  100  15            35             6             1225               36   \n",
      "1   75  11            10             2              100                4   \n",
      "2   80  15            15             6              225               36   \n",
      "3   90  14            25             5              625               25   \n",
      "4   60   8            -5            -1               25                1   \n",
      "5   50   9           -15             0              225                0   \n",
      "6   25   2           -40            -7             1600               49   \n",
      "7   40   5           -25            -4              625               16   \n",
      "\n",
      "    x_sq   x_y  cov_numerator  \n",
      "0  10000  1500            210  \n",
      "1   5625   825             20  \n",
      "2   6400  1200             90  \n",
      "3   8100  1260            125  \n",
      "4   3600   480              5  \n",
      "5   2500   450              0  \n",
      "6    625    50            280  \n",
      "7   1600   200            100  \n"
     ]
    }
   ],
   "source": [
    "data[\"cov_numerator\"] = data[\"x_minus_xbar\"]*data[\"y_minus_ybar\"]\n",
    "print(data)"
   ]
  },
  {
   "cell_type": "code",
   "execution_count": 107,
   "metadata": {},
   "outputs": [
    {
     "name": "stdout",
     "output_type": "stream",
     "text": [
      "     x   y  x_minus_xbar  y_minus_ybar  x_minus_xbar_sq  y_minus_ybar_sq  \\\n",
      "0  100  15            35             6             1225               36   \n",
      "1   75  11            10             2              100                4   \n",
      "2   80  15            15             6              225               36   \n",
      "3   90  14            25             5              625               25   \n",
      "4   60   8            -5            -1               25                1   \n",
      "5   50   9           -15             0              225                0   \n",
      "6   25   2           -40            -7             1600               49   \n",
      "7   40   5           -25            -4              625               16   \n",
      "\n",
      "    x_sq   x_y  cov_numerator  \n",
      "0  10000  1500            210  \n",
      "1   5625   825             20  \n",
      "2   6400  1200             90  \n",
      "3   8100  1260            125  \n",
      "4   3600   480              5  \n",
      "5   2500   450              0  \n",
      "6    625    50            280  \n",
      "7   1600   200            100  \n"
     ]
    }
   ],
   "source": [
    "data[\"x_sq\"] = data[\"x\"]**2\n",
    "print(data)"
   ]
  },
  {
   "cell_type": "code",
   "execution_count": 108,
   "metadata": {},
   "outputs": [
    {
     "name": "stdout",
     "output_type": "stream",
     "text": [
      "     x   y  x_minus_xbar  y_minus_ybar  x_minus_xbar_sq  y_minus_ybar_sq  \\\n",
      "0  100  15            35             6             1225               36   \n",
      "1   75  11            10             2              100                4   \n",
      "2   80  15            15             6              225               36   \n",
      "3   90  14            25             5              625               25   \n",
      "4   60   8            -5            -1               25                1   \n",
      "5   50   9           -15             0              225                0   \n",
      "6   25   2           -40            -7             1600               49   \n",
      "7   40   5           -25            -4              625               16   \n",
      "\n",
      "    x_sq   x_y  cov_numerator  \n",
      "0  10000  1500            210  \n",
      "1   5625   825             20  \n",
      "2   6400  1200             90  \n",
      "3   8100  1260            125  \n",
      "4   3600   480              5  \n",
      "5   2500   450              0  \n",
      "6    625    50            280  \n",
      "7   1600   200            100  \n"
     ]
    }
   ],
   "source": [
    "data[\"x_y\"] = data[\"x\"]*data[\"y\"]\n",
    "print(data)"
   ]
  },
  {
   "cell_type": "code",
   "execution_count": 109,
   "metadata": {},
   "outputs": [
    {
     "name": "stdout",
     "output_type": "stream",
     "text": [
      "118\n"
     ]
    }
   ],
   "source": [
    "cor_num = sum(data.cov_numerator)/(n-1)\n",
    "print(cor_num)"
   ]
  },
  {
   "cell_type": "code",
   "execution_count": 110,
   "metadata": {},
   "outputs": [
    {
     "name": "stdout",
     "output_type": "stream",
     "text": [
      "25.7681974535\n"
     ]
    }
   ],
   "source": [
    "sx = math.sqrt(sum(data.x_minus_xbar_sq)/(n-1))\n",
    "print(sx)"
   ]
  },
  {
   "cell_type": "code",
   "execution_count": 111,
   "metadata": {},
   "outputs": [
    {
     "name": "stdout",
     "output_type": "stream",
     "text": [
      "4.79583152331\n"
     ]
    }
   ],
   "source": [
    "sy = math.sqrt(sum(data.y_minus_ybar_sq)/(n-1))\n",
    "print(sy)"
   ]
  },
  {
   "cell_type": "code",
   "execution_count": 112,
   "metadata": {},
   "outputs": [
    {
     "name": "stdout",
     "output_type": "stream",
     "text": [
      "0.954847575318\n"
     ]
    }
   ],
   "source": [
    "cor_r = (cor_num)/(sx*sy)\n",
    "print(cor_r)"
   ]
  },
  {
   "cell_type": "code",
   "execution_count": 113,
   "metadata": {},
   "outputs": [
    {
     "name": "stdout",
     "output_type": "stream",
     "text": [
      "0.692964645563\n"
     ]
    }
   ],
   "source": [
    "# validation of cor_r\n",
    "val_r = 1.96/math.sqrt(n)\n",
    "print(val_r)"
   ]
  },
  {
   "cell_type": "code",
   "execution_count": 114,
   "metadata": {},
   "outputs": [],
   "source": [
    "# since cor_r is greater than val_r, the data follows linear regression"
   ]
  },
  {
   "cell_type": "code",
   "execution_count": null,
   "metadata": {},
   "outputs": [],
   "source": []
  }
 ],
 "metadata": {
  "kernelspec": {
   "display_name": "Python 2",
   "language": "python",
   "name": "python2"
  },
  "language_info": {
   "codemirror_mode": {
    "name": "ipython",
    "version": 2
   },
   "file_extension": ".py",
   "mimetype": "text/x-python",
   "name": "python",
   "nbconvert_exporter": "python",
   "pygments_lexer": "ipython2",
   "version": "2.7.14"
  }
 },
 "nbformat": 4,
 "nbformat_minor": 2
}
